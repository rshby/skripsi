{
 "cells": [
  {
   "cell_type": "code",
   "execution_count": 1,
   "id": "9973c839",
   "metadata": {},
   "outputs": [],
   "source": [
    "from warnings import filterwarnings\n",
    "filterwarnings(\"ignore\")\n",
    "\n",
    "import pandas as pd\n",
    "import numpy as np\n",
    "import seaborn as sns\n",
    "sns.set(context=\"poster\")\n",
    "\n",
    "import pickle\n",
    "\n",
    "from sklearn.model_selection import train_test_split\n",
    "\n",
    "from jcopml.plot import plot_confusion_matrix"
   ]
  },
  {
   "cell_type": "markdown",
   "id": "6688ba66",
   "metadata": {},
   "source": [
    "# import model"
   ]
  },
  {
   "cell_type": "code",
   "execution_count": 2,
   "id": "15e7218b",
   "metadata": {},
   "outputs": [],
   "source": [
    "model = pickle.load(open(r\"model_xgb.pkl\", 'rb'))"
   ]
  },
  {
   "cell_type": "markdown",
   "id": "e3dfea90",
   "metadata": {},
   "source": [
    "# import dataset"
   ]
  },
  {
   "cell_type": "code",
   "execution_count": 3,
   "id": "2e2f7c63",
   "metadata": {},
   "outputs": [
    {
     "name": "stdout",
     "output_type": "stream",
     "text": [
      "IQR = 20.0\n",
      "Q1 = 120.0\n",
      "Q3 = 140.0\n",
      "batas bawah: 90.0\n",
      "batas atas: 170.0\n"
     ]
    },
    {
     "data": {
      "text/plain": [
       "((235, 13), (59, 13), (235,), (59,))"
      ]
     },
     "execution_count": 3,
     "metadata": {},
     "output_type": "execute_result"
    }
   ],
   "source": [
    "df = pd.read_csv(\"../Datasets/heart.csv\")\n",
    "\n",
    "Q1 = df[\"trestbps\"].quantile(0.25) #membuat Q1\n",
    "Q3 = df[\"trestbps\"].quantile(0.75) #membuat Q3\n",
    "\n",
    "IQR = Q3 - Q1 #menghitung IQR\n",
    "print(f\"IQR = {IQR}\\nQ1 = {Q1}\\nQ3 = {Q3}\")\n",
    "\n",
    "batas_bawah = Q1-(1.5*IQR)\n",
    "batas_atas = Q3+(1.5*IQR)\n",
    "\n",
    "print(f\"batas bawah: {batas_bawah}\\nbatas atas: {batas_atas}\")\n",
    "\n",
    "df = df[(df[\"trestbps\"]>=batas_bawah) & (df[\"trestbps\"]<=batas_atas)] #filter outlier\n",
    "df.reset_index(drop=True, inplace=True) #reset index\n",
    "\n",
    "X = df.drop(columns=\"target\", axis=\"columns\")\n",
    "y = df[\"target\"]\n",
    "X_train, X_test, y_train, y_test = train_test_split(X, y, test_size=0.2, random_state=42, stratify=y)\n",
    "X_train.shape, X_test.shape, y_train.shape, y_test.shape"
   ]
  },
  {
   "cell_type": "markdown",
   "id": "94958cd4",
   "metadata": {},
   "source": [
    "# import datatest"
   ]
  },
  {
   "cell_type": "code",
   "execution_count": 4,
   "id": "915cd5ee",
   "metadata": {},
   "outputs": [],
   "source": [
    "dataTest = pd.read_feather(\"../Datasets/other_dataset.feather\")"
   ]
  },
  {
   "cell_type": "code",
   "execution_count": 5,
   "id": "a8508239",
   "metadata": {},
   "outputs": [],
   "source": [
    "X_dataTest = dataTest.drop(columns=\"target\", axis=\"columns\").copy()\n",
    "y_dataTest = dataTest[\"target\"].copy()"
   ]
  },
  {
   "cell_type": "code",
   "execution_count": 6,
   "id": "6c8dc770",
   "metadata": {},
   "outputs": [
    {
     "data": {
      "image/png": "[encoded data removed]",
      "text/plain": [
       "<Figure size 792x360 with 2 Axes>"
      ]
     },
     "metadata": {},
     "output_type": "display_data"
    }
   ],
   "source": [
    "plot_confusion_matrix(X_train, y_train, X_dataTest, y_dataTest, model)"
   ]
  },
  {
   "cell_type": "code",
   "execution_count": 8,
   "id": "22c94fa3",
   "metadata": {},
   "outputs": [],
   "source": [
    "dataTest[\"hasil_prediksi\"] = model.predict(X_dataTest)"
   ]
  },
  {
   "cell_type": "code",
   "execution_count": 10,
   "id": "07e50d3f",
   "metadata": {},
   "outputs": [],
   "source": [
    "#dataTest.to_feather(\"../Datasets/other_dataset_hasil.feather\")"
   ]
  },
  {
   "cell_type": "code",
   "execution_count": null,
   "id": "b7fa5530",
   "metadata": {},
   "outputs": [],
   "source": []
  }
 ],
 "metadata": {
  "kernelspec": {
   "display_name": "Python 3 (ipykernel)",
   "language": "python",
   "name": "python3"
  },
  "language_info": {
   "codemirror_mode": {
    "name": "ipython",
    "version": 3
   },
   "file_extension": ".py",
   "mimetype": "text/x-python",
   "name": "python",
   "nbconvert_exporter": "python",
   "pygments_lexer": "ipython3",
   "version": "3.9.5"
  }
 },
 "nbformat": 4,
 "nbformat_minor": 5
}
