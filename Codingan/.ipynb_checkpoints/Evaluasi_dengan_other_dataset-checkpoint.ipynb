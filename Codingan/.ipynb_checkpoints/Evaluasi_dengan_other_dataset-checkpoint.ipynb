{
 "cells": [
  {
   "cell_type": "code",
   "execution_count": 1,
   "id": "a8e0e7e6",
   "metadata": {},
   "outputs": [],
   "source": [
    "from warnings import filterwarnings\n",
    "filterwarnings(\"ignore\")\n",
    "\n",
    "import pandas as pd\n",
    "import numpy as np\n",
    "import seaborn as sns\n",
    "sns.set(context=\"poster\")\n",
    "\n",
    "import pickle\n",
    "\n",
    "from sklearn.model_selection import train_test_split\n",
    "\n",
    "from jcopml.plot import plot_confusion_matrix"
   ]
  },
  {
   "cell_type": "markdown",
   "id": "2ec28694",
   "metadata": {},
   "source": [
    "# import model"
   ]
  },
  {
   "cell_type": "code",
   "execution_count": 2,
   "id": "8052470d",
   "metadata": {},
   "outputs": [],
   "source": [
    "model = pickle.load(open(r\"model_xgb.pkl\", 'rb'))"
   ]
  },
  {
   "cell_type": "markdown",
   "id": "b3da62c1",
   "metadata": {},
   "source": [
    "# import dataset"
   ]
  },
  {
   "cell_type": "code",
   "execution_count": 3,
   "id": "a3f2a583",
   "metadata": {},
   "outputs": [
    {
     "name": "stdout",
     "output_type": "stream",
     "text": [
      "IQR = 20.0\n",
      "Q1 = 120.0\n",
      "Q3 = 140.0\n",
      "batas bawah: 90.0\n",
      "batas atas: 170.0\n"
     ]
    },
    {
     "data": {
      "text/plain": [
       "((235, 13), (59, 13), (235,), (59,))"
      ]
     },
     "execution_count": 3,
     "metadata": {},
     "output_type": "execute_result"
    }
   ],
   "source": [
    "df = pd.read_csv(\"../Datasets/heart.csv\")\n",
    "\n",
    "Q1 = df[\"trestbps\"].quantile(0.25) #membuat Q1\n",
    "Q3 = df[\"trestbps\"].quantile(0.75) #membuat Q3\n",
    "\n",
    "IQR = Q3 - Q1 #menghitung IQR\n",
    "print(f\"IQR = {IQR}\\nQ1 = {Q1}\\nQ3 = {Q3}\")\n",
    "\n",
    "batas_bawah = Q1-(1.5*IQR)\n",
    "batas_atas = Q3+(1.5*IQR)\n",
    "\n",
    "print(f\"batas bawah: {batas_bawah}\\nbatas atas: {batas_atas}\")\n",
    "\n",
    "df = df[(df[\"trestbps\"]>=batas_bawah) & (df[\"trestbps\"]<=batas_atas)] #filter outlier\n",
    "df.reset_index(drop=True, inplace=True) #reset index\n",
    "\n",
    "X = df.drop(columns=\"target\", axis=\"columns\")\n",
    "y = df[\"target\"]\n",
    "X_train, X_test, y_train, y_test = train_test_split(X, y, test_size=0.2, random_state=42, stratify=y)\n",
    "X_train.shape, X_test.shape, y_train.shape, y_test.shape"
   ]
  },
  {
   "cell_type": "markdown",
   "id": "21015779",
   "metadata": {},
   "source": [
    "# import datatest"
   ]
  },
  {
   "cell_type": "code",
   "execution_count": 4,
   "id": "618c70b5",
   "metadata": {},
   "outputs": [],
   "source": [
    "dataTest = pd.read_feather(\"../Datasets/other_dataset.feather\")"
   ]
  },
  {
   "cell_type": "code",
   "execution_count": 5,
   "id": "97d4e90b",
   "metadata": {},
   "outputs": [],
   "source": [
    "dataTest = dataTest[(dataTest[\"trestbps\"]>=batas_bawah) & (dataTest[\"trestbps\"]<=batas_atas)] #filter outlier\n",
    "dataTest.reset_index(drop=True, inplace=True) #reset index"
   ]
  },
  {
   "cell_type": "code",
   "execution_count": 6,
   "id": "e1ba7d77",
   "metadata": {},
   "outputs": [],
   "source": [
    "X_dataTest = dataTest.drop(columns=\"target\", axis=\"columns\").copy()\n",
    "y_dataTest = dataTest[\"target\"].copy()"
   ]
  },
  {
   "cell_type": "code",
   "execution_count": 7,
   "id": "3c397b21",
   "metadata": {},
   "outputs": [
    {
     "data": {
      "image/png": "[encoded data removed]",
      "text/plain": [
       "<Figure size 792x360 with 2 Axes>"
      ]
     },
     "metadata": {},
     "output_type": "display_data"
    }
   ],
   "source": [
    "plot_confusion_matrix(X_train, y_train, X_dataTest, y_dataTest, model)"
   ]
  },
  {
   "cell_type": "code",
   "execution_count": 8,
   "id": "8c2899ba",
   "metadata": {},
   "outputs": [],
   "source": [
    "dataTest[\"hasil_prediksi\"] = model.predict(X_dataTest)"
   ]
  },
  {
   "cell_type": "code",
   "execution_count": 9,
   "id": "9900dc09",
   "metadata": {},
   "outputs": [],
   "source": [
    "#dataTest.to_feather(\"../Datasets/other_dataset_hasil.feather\")"
   ]
  },
  {
   "cell_type": "code",
   "execution_count": 10,
   "id": "b5e15887",
   "metadata": {},
   "outputs": [
    {
     "data": {
      "text/html": [
       "<div>\n",
       "<style scoped>\n",
       "    .dataframe tbody tr th:only-of-type {\n",
       "        vertical-align: middle;\n",
       "    }\n",
       "\n",
       "    .dataframe tbody tr th {\n",
       "        vertical-align: top;\n",
       "    }\n",
       "\n",
       "    .dataframe thead th {\n",
       "        text-align: right;\n",
       "    }\n",
       "</style>\n",
       "<table border=\"1\" class=\"dataframe\">\n",
       "  <thead>\n",
       "    <tr style=\"text-align: right;\">\n",
       "      <th></th>\n",
       "      <th>age</th>\n",
       "      <th>sex</th>\n",
       "      <th>cp</th>\n",
       "      <th>trestbps</th>\n",
       "      <th>chol</th>\n",
       "      <th>fbs</th>\n",
       "      <th>restecg</th>\n",
       "      <th>thalach</th>\n",
       "      <th>exang</th>\n",
       "      <th>oldpeak</th>\n",
       "      <th>slope</th>\n",
       "      <th>ca</th>\n",
       "      <th>thal</th>\n",
       "      <th>target</th>\n",
       "      <th>hasil_prediksi</th>\n",
       "    </tr>\n",
       "  </thead>\n",
       "  <tbody>\n",
       "    <tr>\n",
       "      <th>0</th>\n",
       "      <td>70</td>\n",
       "      <td>1</td>\n",
       "      <td>3</td>\n",
       "      <td>130</td>\n",
       "      <td>322</td>\n",
       "      <td>0</td>\n",
       "      <td>2</td>\n",
       "      <td>109</td>\n",
       "      <td>0</td>\n",
       "      <td>2.4</td>\n",
       "      <td>1</td>\n",
       "      <td>3</td>\n",
       "      <td>1</td>\n",
       "      <td>0</td>\n",
       "      <td>0</td>\n",
       "    </tr>\n",
       "    <tr>\n",
       "      <th>1</th>\n",
       "      <td>67</td>\n",
       "      <td>0</td>\n",
       "      <td>2</td>\n",
       "      <td>115</td>\n",
       "      <td>564</td>\n",
       "      <td>0</td>\n",
       "      <td>2</td>\n",
       "      <td>160</td>\n",
       "      <td>0</td>\n",
       "      <td>1.6</td>\n",
       "      <td>1</td>\n",
       "      <td>0</td>\n",
       "      <td>3</td>\n",
       "      <td>1</td>\n",
       "      <td>1</td>\n",
       "    </tr>\n",
       "    <tr>\n",
       "      <th>2</th>\n",
       "      <td>57</td>\n",
       "      <td>1</td>\n",
       "      <td>1</td>\n",
       "      <td>124</td>\n",
       "      <td>261</td>\n",
       "      <td>0</td>\n",
       "      <td>0</td>\n",
       "      <td>141</td>\n",
       "      <td>0</td>\n",
       "      <td>0.3</td>\n",
       "      <td>0</td>\n",
       "      <td>0</td>\n",
       "      <td>3</td>\n",
       "      <td>0</td>\n",
       "      <td>1</td>\n",
       "    </tr>\n",
       "    <tr>\n",
       "      <th>3</th>\n",
       "      <td>64</td>\n",
       "      <td>1</td>\n",
       "      <td>3</td>\n",
       "      <td>128</td>\n",
       "      <td>263</td>\n",
       "      <td>0</td>\n",
       "      <td>0</td>\n",
       "      <td>105</td>\n",
       "      <td>1</td>\n",
       "      <td>0.2</td>\n",
       "      <td>1</td>\n",
       "      <td>1</td>\n",
       "      <td>3</td>\n",
       "      <td>1</td>\n",
       "      <td>0</td>\n",
       "    </tr>\n",
       "    <tr>\n",
       "      <th>4</th>\n",
       "      <td>74</td>\n",
       "      <td>0</td>\n",
       "      <td>1</td>\n",
       "      <td>120</td>\n",
       "      <td>269</td>\n",
       "      <td>0</td>\n",
       "      <td>2</td>\n",
       "      <td>121</td>\n",
       "      <td>1</td>\n",
       "      <td>0.2</td>\n",
       "      <td>0</td>\n",
       "      <td>1</td>\n",
       "      <td>1</td>\n",
       "      <td>1</td>\n",
       "      <td>0</td>\n",
       "    </tr>\n",
       "    <tr>\n",
       "      <th>...</th>\n",
       "      <td>...</td>\n",
       "      <td>...</td>\n",
       "      <td>...</td>\n",
       "      <td>...</td>\n",
       "      <td>...</td>\n",
       "      <td>...</td>\n",
       "      <td>...</td>\n",
       "      <td>...</td>\n",
       "      <td>...</td>\n",
       "      <td>...</td>\n",
       "      <td>...</td>\n",
       "      <td>...</td>\n",
       "      <td>...</td>\n",
       "      <td>...</td>\n",
       "      <td>...</td>\n",
       "    </tr>\n",
       "    <tr>\n",
       "      <th>256</th>\n",
       "      <td>48</td>\n",
       "      <td>1</td>\n",
       "      <td>1</td>\n",
       "      <td>110</td>\n",
       "      <td>229</td>\n",
       "      <td>0</td>\n",
       "      <td>0</td>\n",
       "      <td>168</td>\n",
       "      <td>0</td>\n",
       "      <td>1.0</td>\n",
       "      <td>2</td>\n",
       "      <td>0</td>\n",
       "      <td>3</td>\n",
       "      <td>0</td>\n",
       "      <td>1</td>\n",
       "    </tr>\n",
       "    <tr>\n",
       "      <th>257</th>\n",
       "      <td>44</td>\n",
       "      <td>1</td>\n",
       "      <td>1</td>\n",
       "      <td>120</td>\n",
       "      <td>263</td>\n",
       "      <td>0</td>\n",
       "      <td>0</td>\n",
       "      <td>173</td>\n",
       "      <td>0</td>\n",
       "      <td>0.0</td>\n",
       "      <td>0</td>\n",
       "      <td>0</td>\n",
       "      <td>3</td>\n",
       "      <td>1</td>\n",
       "      <td>1</td>\n",
       "    </tr>\n",
       "    <tr>\n",
       "      <th>258</th>\n",
       "      <td>56</td>\n",
       "      <td>0</td>\n",
       "      <td>1</td>\n",
       "      <td>140</td>\n",
       "      <td>294</td>\n",
       "      <td>0</td>\n",
       "      <td>2</td>\n",
       "      <td>153</td>\n",
       "      <td>0</td>\n",
       "      <td>1.3</td>\n",
       "      <td>1</td>\n",
       "      <td>0</td>\n",
       "      <td>1</td>\n",
       "      <td>1</td>\n",
       "      <td>1</td>\n",
       "    </tr>\n",
       "    <tr>\n",
       "      <th>259</th>\n",
       "      <td>57</td>\n",
       "      <td>1</td>\n",
       "      <td>3</td>\n",
       "      <td>140</td>\n",
       "      <td>192</td>\n",
       "      <td>0</td>\n",
       "      <td>0</td>\n",
       "      <td>148</td>\n",
       "      <td>0</td>\n",
       "      <td>0.4</td>\n",
       "      <td>1</td>\n",
       "      <td>0</td>\n",
       "      <td>2</td>\n",
       "      <td>1</td>\n",
       "      <td>1</td>\n",
       "    </tr>\n",
       "    <tr>\n",
       "      <th>260</th>\n",
       "      <td>67</td>\n",
       "      <td>1</td>\n",
       "      <td>3</td>\n",
       "      <td>160</td>\n",
       "      <td>286</td>\n",
       "      <td>0</td>\n",
       "      <td>2</td>\n",
       "      <td>108</td>\n",
       "      <td>1</td>\n",
       "      <td>1.5</td>\n",
       "      <td>1</td>\n",
       "      <td>3</td>\n",
       "      <td>1</td>\n",
       "      <td>0</td>\n",
       "      <td>0</td>\n",
       "    </tr>\n",
       "  </tbody>\n",
       "</table>\n",
       "<p>261 rows × 15 columns</p>\n",
       "</div>"
      ],
      "text/plain": [
       "     age  sex  cp  trestbps  chol  fbs  restecg  thalach  exang  oldpeak  \\\n",
       "0     70    1   3       130   322    0        2      109      0      2.4   \n",
       "1     67    0   2       115   564    0        2      160      0      1.6   \n",
       "2     57    1   1       124   261    0        0      141      0      0.3   \n",
       "3     64    1   3       128   263    0        0      105      1      0.2   \n",
       "4     74    0   1       120   269    0        2      121      1      0.2   \n",
       "..   ...  ...  ..       ...   ...  ...      ...      ...    ...      ...   \n",
       "256   48    1   1       110   229    0        0      168      0      1.0   \n",
       "257   44    1   1       120   263    0        0      173      0      0.0   \n",
       "258   56    0   1       140   294    0        2      153      0      1.3   \n",
       "259   57    1   3       140   192    0        0      148      0      0.4   \n",
       "260   67    1   3       160   286    0        2      108      1      1.5   \n",
       "\n",
       "     slope  ca  thal  target  hasil_prediksi  \n",
       "0        1   3     1       0               0  \n",
       "1        1   0     3       1               1  \n",
       "2        0   0     3       0               1  \n",
       "3        1   1     3       1               0  \n",
       "4        0   1     1       1               0  \n",
       "..     ...  ..   ...     ...             ...  \n",
       "256      2   0     3       0               1  \n",
       "257      0   0     3       1               1  \n",
       "258      1   0     1       1               1  \n",
       "259      1   0     2       1               1  \n",
       "260      1   3     1       0               0  \n",
       "\n",
       "[261 rows x 15 columns]"
      ]
     },
     "execution_count": 10,
     "metadata": {},
     "output_type": "execute_result"
    }
   ],
   "source": [
    "dataTest"
   ]
  },
  {
   "cell_type": "markdown",
   "id": "9c8c1155",
   "metadata": {},
   "source": [
    "# Pengujian dengan Semua Data"
   ]
  },
  {
   "cell_type": "code",
   "execution_count": 11,
   "id": "1d2de6f7",
   "metadata": {},
   "outputs": [
    {
     "name": "stdout",
     "output_type": "stream",
     "text": [
      "IQR = 20.0\n",
      "Q1 = 120.0\n",
      "Q3 = 140.0\n",
      "batas bawah: 90.0\n",
      "batas atas: 170.0\n"
     ]
    }
   ],
   "source": [
    "df = pd.read_csv(\"../Datasets/heart.csv\")\n",
    "\n",
    "Q1 = df[\"trestbps\"].quantile(0.25) #membuat Q1\n",
    "Q3 = df[\"trestbps\"].quantile(0.75) #membuat Q3\n",
    "\n",
    "IQR = Q3 - Q1 #menghitung IQR\n",
    "print(f\"IQR = {IQR}\\nQ1 = {Q1}\\nQ3 = {Q3}\")\n",
    "\n",
    "batas_bawah = Q1-(1.5*IQR)\n",
    "batas_atas = Q3+(1.5*IQR)\n",
    "\n",
    "print(f\"batas bawah: {batas_bawah}\\nbatas atas: {batas_atas}\")\n",
    "\n",
    "df = df[(df[\"trestbps\"]>=batas_bawah) & (df[\"trestbps\"]<=batas_atas)] #filter outlier\n",
    "df.reset_index(drop=True, inplace=True) #reset index"
   ]
  },
  {
   "cell_type": "code",
   "execution_count": 14,
   "id": "d56fca70",
   "metadata": {},
   "outputs": [],
   "source": [
    "X_train = df.drop(columns=\"target\").copy()\n",
    "y_train = df[\"target\"].copy()"
   ]
  },
  {
   "cell_type": "code",
   "execution_count": 15,
   "id": "12ae165a",
   "metadata": {},
   "outputs": [],
   "source": [
    "dataTest = pd.read_feather(\"../Datasets/other_dataset.feather\")\n",
    "\n",
    "dataTest = dataTest[(dataTest[\"trestbps\"]>=batas_bawah) & (dataTest[\"trestbps\"]<=batas_atas)] #filter outlier\n",
    "dataTest.reset_index(drop=True, inplace=True) #reset index\n",
    "\n",
    "X_test = dataTest.drop(columns=\"target\", axis=\"columns\").copy()\n",
    "y_test = dataTest[\"target\"].copy()"
   ]
  },
  {
   "cell_type": "code",
   "execution_count": 16,
   "id": "cecd40b4",
   "metadata": {},
   "outputs": [
    {
     "data": {
      "image/png": "[encoded data removed]",
      "text/plain": [
       "<Figure size 792x360 with 2 Axes>"
      ]
     },
     "metadata": {},
     "output_type": "display_data"
    }
   ],
   "source": [
    "plot_confusion_matrix(X_train, y_train, X_test, y_test, model)"
   ]
  },
  {
   "cell_type": "code",
   "execution_count": null,
   "id": "a42b76b6",
   "metadata": {},
   "outputs": [],
   "source": []
  }
 ],
 "metadata": {
  "kernelspec": {
   "display_name": "Python 3 (ipykernel)",
   "language": "python",
   "name": "python3"
  },
  "language_info": {
   "codemirror_mode": {
    "name": "ipython",
    "version": 3
   },
   "file_extension": ".py",
   "mimetype": "text/x-python",
   "name": "python",
   "nbconvert_exporter": "python",
   "pygments_lexer": "ipython3",
   "version": "3.9.5"
  }
 },
 "nbformat": 4,
 "nbformat_minor": 5
}
